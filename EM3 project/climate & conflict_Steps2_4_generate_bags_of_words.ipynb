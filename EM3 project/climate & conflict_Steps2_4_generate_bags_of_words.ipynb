{
  "cells": [
    {
      "cell_type": "markdown",
      "metadata": {
        "id": "JcZv2JXPd9Nw"
      },
      "source": [
        "# In this script we will learn how to extract bags-of-words to perform dyachronic analysis of historical texts."
      ]
    },
    {
      "cell_type": "markdown",
      "metadata": {
        "id": "ufrXoxWAcAwI"
      },
      "source": [
        "## Section 1\n",
        "### First we use word lists from psychometric tools and obtain synonyms and hyponyms using WordNet"
      ]
    },
    {
      "cell_type": "code",
      "execution_count": null,
      "metadata": {
        "colab": {
          "base_uri": "https://localhost:8080/"
        },
        "id": "8-HXde6SToGw",
        "outputId": "b9eafc8f-d60e-42ab-9340-82edf3e27754"
      },
      "outputs": [
        {
          "name": "stdout",
          "output_type": "stream",
          "text": [
            "Requirement already satisfied: nltk in /usr/local/lib/python3.7/dist-packages (3.2.5)\n",
            "Requirement already satisfied: six in /usr/local/lib/python3.7/dist-packages (from nltk) (1.15.0)\n",
            "[nltk_data] Downloading package wordnet to /root/nltk_data...\n",
            "[nltk_data]   Unzipping corpora/wordnet.zip.\n"
          ]
        },
        {
          "data": {
            "text/plain": [
              "True"
            ]
          },
          "execution_count": 9,
          "metadata": {},
          "output_type": "execute_result"
        }
      ],
      "source": [
        "## The first time you use this script, uncomment lines 3 and 5\n",
        "\n",
        "!pip install nltk\n",
        "import nltk\n",
        "#nltk.download('all')\n",
        "from nltk.corpus import wordnet as wn\n",
        "\n",
        "# Here we can change the langauge of analysis\n",
        "languages = ['eng']\n",
        "nltk.download('wordnet')"
      ]
    },
    {
      "cell_type": "code",
      "execution_count": null,
      "metadata": {
        "id": "tgD43cZqUJCX"
      },
      "outputs": [],
      "source": [
        "### Function to Generate synonyms and hyponyms using Wordnet\n",
        "\n",
        "def generate_wordnet_list(word_base,languages,exclude_list):\n",
        "  word_lists = []\n",
        "\n",
        "  #iterate over languages\n",
        "  for language in languages:\n",
        "    word_list = []\n",
        "\n",
        "    # iterate over words in the word_base list\n",
        "    for word in word_base:\n",
        "\n",
        "      ## iterate over different meanings of the word synsets\n",
        "      for meaning in wn.synsets(word, pos=wn.NOUN+wn.VERB+wn.ADJ):\n",
        "        if meaning.name() not in exclude_list:\n",
        "          print(meaning)\n",
        "          print(meaning.definition())\n",
        "          print('\\n')\n",
        "\n",
        "\n",
        "          ## iterate over different synonyms and add them to list\n",
        "          for synonym in meaning.lemmas(language):\n",
        "            #print(synonym)\n",
        "\n",
        "            ## if the synonym is no in the list add it\n",
        "            if synonym.name() not in word_list:\n",
        "              word_list.append(synonym.name())\n",
        "              #print(synonym.name())\n",
        "\n",
        "          ## iterate over hyponyms\n",
        "          for hyponym in meaning.hyponyms():\n",
        "            #print(hyponym.lemmas(language))\n",
        "\n",
        "            ## iterate over synonyms of hyponyms\n",
        "            for synonym_of_hyponym in hyponym.lemmas(language):\n",
        "              #print(synonym_of_hyponym.name())\n",
        "\n",
        "              ## if the synonym of the hyponym is no in the list add it\n",
        "              if synonym_of_hyponym.name() not in word_list:\n",
        "                word_list.append(synonym_of_hyponym.name())\n",
        "\n",
        "    ## add the language-specific word list to the global word list, sort the words in alphabetic order   \n",
        "    word_lists +=[sorted(word_list)]\n",
        "\n",
        "  ## there are 3 lists now, one for each language, we iterate over the list of lists and print each\n",
        "  for lst in word_lists:\n",
        "    #print(lst)\n",
        "    return(lst)"
      ]
    },
    {
      "cell_type": "code",
      "execution_count": null,
      "metadata": {
        "colab": {
          "base_uri": "https://localhost:8080/"
        },
        "id": "8gaOT2ZqX8ZA",
        "outputId": "e6636682-1f82-4444-d5fc-03861cf1173a"
      },
      "outputs": [
        {
          "name": "stdout",
          "output_type": "stream",
          "text": [
            "Synset('drought.n.01')\n",
            "a shortage of rainfall\n",
            "\n",
            "\n",
            "Synset('drought.n.02')\n",
            "a prolonged shortage\n",
            "\n",
            "\n",
            "Synset('unpredictable.a.01')\n",
            "not capable of being foretold\n",
            "\n",
            "\n",
            "Synset('unpredictable.s.02')\n",
            "unknown in advance\n",
            "\n",
            "\n",
            "Synset('irregular.s.02')\n",
            "not occurring at expected times\n",
            "\n",
            "\n",
            "Synset('typhoon.n.01')\n",
            "a tropical cyclone occurring in the western Pacific or Indian oceans\n",
            "\n",
            "\n",
            "Synset('landslide.n.01')\n",
            "an overwhelming electoral victory\n",
            "\n",
            "\n",
            "Synset('landslide.n.02')\n",
            "a slide of a large mass of dirt and rock down a mountain or cliff\n",
            "\n",
            "\n",
            "Synset('flood.n.01')\n",
            "the rising of a body of water and its overflowing onto normally dry land\n",
            "\n",
            "\n",
            "Synset('flood.n.02')\n",
            "an overwhelming number or amount\n",
            "\n",
            "\n",
            "Synset('flood.n.03')\n",
            "light that is a source of artificial illumination having a broad beam; used in photography\n",
            "\n",
            "\n",
            "Synset('flood.n.04')\n",
            "a large flow\n",
            "\n",
            "\n",
            "Synset('flood.n.05')\n",
            "the act of flooding; filling to overflowing\n",
            "\n",
            "\n",
            "Synset('flood_tide.n.02')\n",
            "the occurrence of incoming water (between a low tide and the following high tide)\n",
            "\n",
            "\n",
            "Synset('deluge.v.01')\n",
            "fill quickly beyond capacity; as with a liquid\n",
            "\n",
            "\n",
            "Synset('flood.v.02')\n",
            "cover with liquid, usually water\n",
            "\n",
            "\n",
            "Synset('flood.v.03')\n",
            "supply with an excess of\n",
            "\n",
            "\n",
            "Synset('flood.v.04')\n",
            "become filled to overflowing\n",
            "\n",
            "\n",
            "Synset('temperature.n.01')\n",
            "the degree of hotness or coldness of a body or environment (corresponding to its molecular activity)\n",
            "\n",
            "\n",
            "Synset('temperature.n.02')\n",
            "the somatic sensation of cold or heat\n",
            "\n",
            "\n",
            "Synset('plague.n.01')\n",
            "a serious (sometimes fatal) infection of rodents caused by Yersinia pestis and accidentally transmitted to humans by the bite of a flea that has bitten an infected animal\n",
            "\n",
            "\n",
            "Synset('plague.n.02')\n",
            "any epidemic disease with a high death rate\n",
            "\n",
            "\n",
            "Synset('pest.n.03')\n",
            "a persistently annoying person\n",
            "\n",
            "\n",
            "Synset('pest.n.04')\n",
            "any unwanted and destructive insect or other animal that attacks food or crops or livestock etc.\n",
            "\n",
            "\n",
            "Synset('fertilizer.n.01')\n",
            "any substance such as manure or a mixture of nitrates used to make soil more fertile\n",
            "\n",
            "\n",
            "Synset('unpredictable.a.01')\n",
            "not capable of being foretold\n",
            "\n",
            "\n",
            "Synset('unpredictable.s.02')\n",
            "unknown in advance\n",
            "\n",
            "\n",
            "Synset('irregular.s.02')\n",
            "not occurring at expected times\n",
            "\n",
            "\n",
            "Synset('weather.n.01')\n",
            "the atmospheric conditions that comprise the state of the atmosphere in terms of temperature and wind and clouds and precipitation\n",
            "\n",
            "\n",
            "Synset('weather.v.01')\n",
            "face and withstand with courage\n",
            "\n",
            "\n",
            "Synset('weather.v.02')\n",
            "cause to slope\n",
            "\n",
            "\n",
            "Synset('weather.v.04')\n",
            "change under the action or influence of the weather\n",
            "\n",
            "\n",
            "Synset('upwind.s.01')\n",
            "towards the side exposed to wind\n",
            "\n",
            "\n",
            "Synset('labor.n.01')\n",
            "a social class comprising those who do manual labor or work for wages\n",
            "\n",
            "\n",
            "Synset('labor.n.02')\n",
            "productive work (especially physical work done for wages)\n",
            "\n",
            "\n",
            "Synset('parturiency.n.01')\n",
            "concluding state of pregnancy; from the onset of contractions to the birth of a child\n",
            "\n",
            "\n",
            "Synset('labor_movement.n.01')\n",
            "an organized attempt by workers to improve their status by united action (particularly via labor unions) or the leaders of this movement\n",
            "\n",
            "\n",
            "Synset('british_labour_party.n.01')\n",
            "a political party formed in Great Britain in 1900; characterized by the promotion of labor's interests and formerly the socialization of key industries\n",
            "\n",
            "\n",
            "Synset('department_of_labor.n.01')\n",
            "the federal department responsible for promoting the working conditions of wage earners in the United States; created in 1913\n",
            "\n",
            "\n",
            "Synset('undertaking.n.01')\n",
            "any piece of work that is undertaken or attempted\n",
            "\n",
            "\n",
            "Synset('tug.v.02')\n",
            "strive and make an effort to reach a goal\n",
            "\n",
            "\n",
            "Synset('labor.v.02')\n",
            "work hard\n",
            "\n",
            "\n",
            "Synset('labor.v.03')\n",
            "undergo the efforts of childbirth\n",
            "\n",
            "\n",
            "Synset('adaptation.n.01')\n",
            "a written work (as a novel) that has been recast in a new form\n",
            "\n",
            "\n",
            "Synset('adaptation.n.02')\n",
            "the process of adapting to something (such as environmental conditions)\n",
            "\n",
            "\n",
            "Synset('adaptation.n.03')\n",
            "(physiology) the responsive adjustment of a sense organ (as the eye) to varying conditions (as of light)\n",
            "\n",
            "\n"
          ]
        }
      ],
      "source": [
        "## Example of seed-words related to a target concept - for instance, prosociality. \n",
        "## In this case, we obtained based the seed word list from\n",
        "\n",
        "# R. Baumsteiger, J. T. Siegel, Measuring prosociality: The development of a prosocial\n",
        "# behavioral intentions scale. J. Pers. Assess. 101, 305–314 (2019).\n",
        "\n",
        "word_base_climate = ['Drought', 'climate change', 'unpredictable', 'typhoon', 'landslide', 'flood', 'Temperature', 'pests', 'Drought tolerant', 'fertilizer', 'Unpredictable', 'weather', 'labor', 'adaptation']\n",
        "\n",
        "## Using the function above, we can obtain the list of synonyms and hyponyms of the seed words,\n",
        "## We can also exclude word meanings that are irrelvant for the concept we want to measure\n",
        "\n",
        "## For instance, 'quilt' is not related to prosociality, and we can add it to the exclusion list\n",
        "## We run the script until all the words in the list of synsets displayed below have relevant meanings \n",
        "\n",
        "exclude_list_climate = ['weather.v.03']\n",
        "climate_list = generate_wordnet_list(word_base_climate,languages,exclude_list_climate)\n"
      ]
    },
    {
      "cell_type": "code",
      "execution_count": null,
      "metadata": {
        "colab": {
          "base_uri": "https://localhost:8080/"
        },
        "id": "oYSqqOwNXmcr",
        "outputId": "f7e1103f-9186-4e9f-8b92-e913cb1e3d54",
        "scrolled": true
      },
      "outputs": [
        {
          "name": "stdout",
          "output_type": "stream",
          "text": [
            "['British_Labour_Party', 'Curie_point', 'Curie_temperature', 'Department_of_Labor', 'DoL', 'I.W.W.', 'IWW', 'Industrial_Workers_of_the_World', 'Labor', 'Labor_Department', 'Labour', 'Labour_Party', 'Noachian_deluge', \"Noah's_flood\", 'Noah_and_the_Flood', 'absolute_temperature', 'absolute_zero', 'acclimation', 'acclimatisation', 'acclimatization', 'adaptation', 'adaption', 'adjustment', 'adventure', 'air_current', 'alluvion', 'assignment', 'atmosphere', 'atmospheric_condition', 'atmospheric_state', 'baby', 'bad_weather', 'blighter', 'blood_heat', 'body_temperature', 'boil', 'boiling_point', 'brave', 'brave_out', 'breeze', 'bubonic_plague', \"child's_play\", 'childbed', 'cinch', 'cold', 'cold_weather', 'coldness', 'comfort_zone', 'conditions', 'confinement', 'corvee', 'current_of_air', 'cuss', 'dangerous_undertaking', 'dark_adaptation', 'debacle', 'dedifferentiation', 'deluge', 'dew_point', 'differentiation', 'dig', 'domestication', 'donkeywork', 'downfall', 'drench', 'drive', 'drought', 'drouth', 'drudge', 'drudgery', 'duck_soup', 'effort', 'effusion', 'elbow_grease', 'elements', 'endeavor', 'endeavour', 'endurance_contest', 'endure', 'enterprise', 'escapade', 'exertion', 'fag', 'fair_weather', 'fertiliser', 'fertilizer', 'flash_flood', 'flash_point', 'flashflood', 'flashpoint', 'flood', 'flood_lamp', 'flood_tide', 'floodlight', 'flow', 'flowage', 'freezing_point', 'frigidity', 'frigidness', 'gadfly', 'glandular_plague', 'glut', 'good_weather', 'grind', 'hackwork', 'haymaking', 'heat', 'high_temperature', 'hot_weather', 'hotness', 'hunt', 'hunting', 'inclemency', 'inclementness', 'inundate', 'inundation', 'irregular', 'labor', 'labor_force', 'labor_movement', 'labor_of_love', 'labor_pool', 'labour', 'labour_of_love', 'landslide', 'landslip', 'large_order', 'light_adaptation', 'low_temperature', 'lumpenproletariat', 'lying-in', 'manual_labor', 'manual_labour', 'marathon', 'melting_point', 'mercury', 'modernization', 'moil', 'mudslide', 'no-brainer', 'nudnick', 'nudnik', 'organic', 'organic_fertiliser', 'organic_fertilizer', 'organized_labor', 'outpouring', 'overflow', 'oversupply', 'overwork', 'overworking', 'parturiency', 'pest', 'pesterer', 'pestilence', 'pestis', 'pestis_bubonica', 'photoflood', 'picnic', 'piece_of_cake', 'plague', 'plague_pneumonia', 'plant_food', 'plodding', 'pneumonic_plague', 'precipitation', 'premature_labor', 'premature_labour', 'project', 'proletariat', 'proposition', 'pulmonic_plague', 'push', 'pushover', 'reach', 'rising_tide', 'risky_venture', 'rockslide', 'room_temperature', 'roping', 'septicemic_plague', 'simmer', 'slavery', 'snap', 'specialisation', 'specialization', 'strain', 'strive', 'submerge', 'sunshine', 'swamp', 'sweat', 'tall_order', 'task', 'temperateness', 'temperature', 'thaw', 'thawing', 'the_Flood', 'toil', 'torrent', 'trade_union_movement', 'trade_unionism', 'travail', 'tug', 'typhoon', 'undertaking', 'unionism', 'unpredictable', 'upwind', 'venture', 'vermin', 'versification', 'version', 'walkover', 'warming', 'warmth', 'wave', 'weather', 'weather_condition', 'wind', 'working_class']\n"
          ]
        }
      ],
      "source": [
        "## This is a very broad list which includes all possible synonyms and hyponyms \n",
        "## related to the seed words we chose for prosociality\n",
        "\n",
        "## As one can verify, this list needs prunning \n",
        "## some of it by excluding irrelevant synsets a priori (cell above), \n",
        "## but some of it can also be done manually a posteriori\n",
        "\n",
        "print(climate_list)"
      ]
    },
    {
      "cell_type": "code",
      "execution_count": null,
      "metadata": {
        "colab": {
          "base_uri": "https://localhost:8080/"
        },
        "id": "IY_auQFsa9WE",
        "outputId": "2c83193d-e080-483e-8fa0-aeee365bc0e0"
      },
      "outputs": [
        {
          "name": "stdout",
          "output_type": "stream",
          "text": [
            "Synset('conflict.n.01')\n",
            "an open clash between two opposing groups (or individuals)\n",
            "\n",
            "\n",
            "Synset('conflict.n.02')\n",
            "opposition between two simultaneous but incompatible feelings\n",
            "\n",
            "\n",
            "Synset('battle.n.01')\n",
            "a hostile meeting of opposing military forces in the course of a war\n",
            "\n",
            "\n",
            "Synset('conflict.n.04')\n",
            "a state of opposition between persons or ideas or interests\n",
            "\n",
            "\n",
            "Synset('conflict.n.05')\n",
            "an incompatibility of dates or events\n",
            "\n",
            "\n",
            "Synset('conflict.n.06')\n",
            "opposition in a work of drama or fiction between characters or forces (especially an opposition that motivates the development of the plot)\n",
            "\n",
            "\n",
            "Synset('dispute.n.01')\n",
            "a disagreement or argument about something important\n",
            "\n",
            "\n",
            "Synset('conflict.v.01')\n",
            "be in conflict\n",
            "\n",
            "\n",
            "Synset('conflict.v.02')\n",
            "go against, as of rules and laws\n",
            "\n",
            "\n",
            "Synset('hazard.n.01')\n",
            "a source of danger; a possibility of incurring loss or misfortune\n",
            "\n",
            "\n",
            "Synset('risk.n.02')\n",
            "a venture undertaken without regard to possible loss or injury\n",
            "\n",
            "\n",
            "Synset('risk.n.03')\n",
            "the probability of becoming infected given that exposure to an infectious agent has occurred\n",
            "\n",
            "\n",
            "Synset('risk.n.04')\n",
            "the probability of being exposed to an infectious agent\n",
            "\n",
            "\n",
            "Synset('risk.v.01')\n",
            "expose to a chance of loss or damage\n",
            "\n",
            "\n",
            "Synset('gamble.v.01')\n",
            "take a risk in the hope of a favorable outcome\n",
            "\n",
            "\n",
            "Synset('competition.n.01')\n",
            "a business relation in which two parties compete to gain customers\n",
            "\n",
            "\n",
            "Synset('contest.n.01')\n",
            "an occasion on which a winner is selected from among two or more contestants\n",
            "\n",
            "\n",
            "Synset('competition.n.03')\n",
            "the act of competing as for profit or a prize\n",
            "\n",
            "\n",
            "Synset('rival.n.01')\n",
            "the contestant you hope to defeat\n",
            "\n",
            "\n",
            "Synset('volatility.n.01')\n",
            "the property of changing readily from a solid or liquid to a vapor\n",
            "\n",
            "\n",
            "Synset('volatility.n.02')\n",
            "the trait of being unpredictably irresolute\n",
            "\n",
            "\n",
            "Synset('excitability.n.02')\n",
            "being easily excited\n",
            "\n",
            "\n",
            "Synset('scarcity.n.01')\n",
            "a small and inadequate amount\n",
            "\n",
            "\n",
            "Synset('demand.v.01')\n",
            "request urgently and forcefully\n",
            "\n",
            "\n",
            "Synset('necessitate.v.01')\n",
            "require as useful, just, or proper\n",
            "\n",
            "\n",
            "Synset('demand.v.03')\n",
            "claim as due or just\n",
            "\n",
            "\n",
            "Synset('demand.v.04')\n",
            "lay legal claim to\n",
            "\n",
            "\n",
            "Synset('demand.v.05')\n",
            "summon to court\n",
            "\n",
            "\n",
            "Synset('demand.v.06')\n",
            "ask to be informed of\n",
            "\n",
            "\n",
            "Synset('demanding.a.01')\n",
            "requiring more than usually expected or thought due; especially great patience and effort and skill\n",
            "\n",
            "\n",
            "Synset('waste.n.01')\n",
            "any materials unused and rejected as worthless or unwanted\n",
            "\n",
            "\n",
            "Synset('waste.n.02')\n",
            "useless or profitless activity; using or expending or consuming thoughtlessly or carelessly\n",
            "\n",
            "\n",
            "Synset('thriftlessness.n.01')\n",
            "the trait of wasting resources\n",
            "\n",
            "\n",
            "Synset('barren.n.01')\n",
            "an uninhabited wilderness that is worthless for cultivation\n",
            "\n",
            "\n",
            "Synset('waste.n.05')\n",
            "(law) reduction in the value of an estate caused by act or neglect\n",
            "\n",
            "\n",
            "Synset('waste.v.01')\n",
            "spend thoughtlessly; throw away\n",
            "\n",
            "\n",
            "Synset('waste.v.02')\n",
            "use inefficiently or inappropriately\n",
            "\n",
            "\n",
            "Synset('waste.v.03')\n",
            "get rid of\n",
            "\n",
            "\n",
            "Synset('waste.v.04')\n",
            "run off as waste\n",
            "\n",
            "\n",
            "Synset('neutralize.v.04')\n",
            "get rid of (someone who may be a threat) by killing\n",
            "\n",
            "\n",
            "Synset('consume.v.03')\n",
            "spend extravagantly\n",
            "\n",
            "\n",
            "Synset('pine_away.v.01')\n",
            "lose vigor, health, or flesh, as through grief\n",
            "\n",
            "\n",
            "Synset('waste.v.08')\n",
            "cause to grow thin or weak\n",
            "\n",
            "\n",
            "Synset('lay_waste_to.v.01')\n",
            "cause extensive destruction or ruin utterly\n",
            "\n",
            "\n",
            "Synset('waste.v.10')\n",
            "become physically weaker\n",
            "\n",
            "\n",
            "Synset('godforsaken.s.01')\n",
            "located in a dismal or remote area; desolate\n",
            "\n",
            "\n",
            "Synset('critical.a.01')\n",
            "marked by a tendency to find and call attention to errors and flaws\n",
            "\n",
            "\n",
            "Synset('critical.a.02')\n",
            "at or of a point at which a property or phenomenon suffers an abrupt change especially having enough mass to sustain a chain reaction\n",
            "\n",
            "\n",
            "Synset('critical.a.03')\n",
            "characterized by careful evaluation and judgment\n",
            "\n",
            "\n",
            "Synset('critical.s.04')\n",
            "urgently needed; absolutely necessary\n",
            "\n",
            "\n",
            "Synset('critical.s.05')\n",
            "forming or having the nature of a turning point or crisis\n",
            "\n",
            "\n",
            "Synset('critical.a.06')\n",
            "being in or verging on a state of crisis or emergency\n",
            "\n",
            "\n",
            "Synset('critical.a.07')\n",
            "of or involving or characteristic of critics or criticism\n",
            "\n",
            "\n"
          ]
        }
      ],
      "source": [
        "## We can repeat the process for the control concept of prosociality -- e.g. authoritarianism\n",
        "\n",
        "#T. Toharudin, J. H. L. Oud, J. B. Billiet, H. Folmer, “Measuring authoritarianism with\n",
        "#different sets of items in a longitudinal study” in Methods, Theories, and Empirical\n",
        "#Applications in the Social Sciences, S. Salzborn, E. Davidov, J. Reinecke, Eds. (VS Verlag\n",
        "#für Sozialwissenschaften, 2012), pp. 193–201.\n",
        "\n",
        "exclude_list_conflict = []\n",
        "word_base_conflict = ['conflict', 'risk', 'competition', 'volatility', 'scarcity', 'demanding', 'waste', 'critical']\n",
        "conflict_list = generate_wordnet_list(word_base_conflict,languages,exclude_list_conflict)\n"
      ]
    },
    {
      "cell_type": "code",
      "execution_count": null,
      "metadata": {
        "colab": {
          "base_uri": "https://localhost:8080/"
        },
        "id": "6BXsAbafX_yJ",
        "outputId": "f9774a62-7af0-4f2f-d0c5-71db90c43c96",
        "scrolled": true
      },
      "outputs": [
        {
          "name": "stdout",
          "output_type": "stream",
          "text": [
            "['Armageddon', 'adventure', 'arguing', 'argument', 'armed_combat', 'ask', 'assault', 'athletic_competition', 'athletic_contest', 'athletics', 'barren', 'battle', 'bell_the_cat', 'blow', 'body_waste', 'boiling_point', 'boondoggle', 'bout', 'burn', 'call', 'call_for', 'call_in', 'challenger', 'champ', 'champion', 'championship', 'chance', 'chicken', 'claim', 'clamor', 'clamour', 'clash', 'class_struggle', 'class_war', 'class_warfare', 'cliffhanger', 'collide', 'collision', 'combat', 'comer', 'command', 'compel', 'competition', 'competitor', 'conflict', 'consume', 'contender', 'contention', 'contest', 'contestation', 'contravene', 'controversy', 'cost', 'counterinsurgency', 'crapshoot', 'critical', 'crud', 'cry_for', 'cry_out_for', 'danger', 'dearth', 'decisive', 'demand', 'demanding', 'desolate', 'devastate', 'difference', 'difference_of_opinion', 'disagreement', 'disceptation', 'disputation', 'dispute', 'dissension', 'dissipate', 'dissipation', 'dissonance', 'do_in', 'dogfight', 'draw', 'dross', 'dun', 'dustup', 'effluent', 'emaciate', 'endangerment', 'enemy', 'engagement', 'exact', 'excitability', 'excitableness', 'excrement', 'excreta', 'excretion', 'excretory_product', 'exhaust', 'exhaust_fumes', 'expect', 'extravagance', 'favorite', 'favourite', 'feud', 'field_trial', 'fight', 'fighting', 'filth', 'finalist', 'fling', 'foe', 'food_waste', 'fool', 'fool_away', 'friction', 'fritter', 'fritter_away', 'frivol_away', 'front-runner', 'fumes', 'gamble', 'game', 'gangrene', 'gap', 'garbage', 'go_for_broke', 'godforsaken', 'govern', 'hazard', 'health_hazard', 'heath', 'heathland', 'high_life', 'highlife', 'impurity', 'infrequency', 'infringe', 'insurrection', 'involve', 'jar', 'jeopardize', 'jeopardy', 'king', 'knock_off', 'languish', 'lavish', 'lavishness', 'lay_on_the_line', 'lay_waste_to', 'liquidate', 'luck_it', 'luck_through', 'luxuriate', 'macerate', 'match', 'moral_hazard', 'mortify', 'naval_battle', 'necessitate', 'necrose', 'need', 'neutralise', 'neutralize', 'occupational_hazard', 'overspend', 'pacification', 'paucity', 'peril', 'permissive_waste', 'pine_away', 'pitched_battle', 'playoff', 'pollutant', 'postulate', 'price_competition', 'price_war', 'prodigality', 'put_on_the_line', 'quarrel', 'queen', 'race', 'rareness', 'rarity', 'ravage', 'rebellion', 'refuse', 'require', 'revolt', 'rising', 'risk', 'risk_of_exposure', 'risk_of_infection', 'rival', 'rivalry', 'rot', 'row', 'rubbish', 'ruin', 'run-in', 'run_a_risk', 'run_afoul', 'run_off', 'runner-up', 'scarceness', 'scarcity', 'scourge', 'scrap', 'scraps', 'scratch', 'second_best', 'semifinalist', 'series', 'sewage', 'sewer_water', 'sewerage', 'shoot', 'shower', 'skank', 'slop', 'spelldown', 'spelling_bee', 'spelling_contest', 'sphacelate', 'splurge', 'squander', 'squandering', 'stake', 'street_fighter', 'strife', 'struggle', 'sword_of_Damocles', 'take', 'take_a_chance', 'take_chances', 'thriftlessness', 'tier', 'tilt', 'tilter', 'title-holder', 'tournament', 'tourney', 'toxic_industrial_waste', 'toxic_waste', 'trash', 'trial', 'tug-of-war', 'turf_war', 'unpredictability', 'uprising', 'venture', 'vital', 'volatility', 'want', 'wanton', 'war', 'ware', 'warfare', 'waste', 'waste_material', 'waste_matter', 'waste_of_effort', 'waste_of_energy', 'waste_of_material', 'waste_of_money', 'waste_of_time', 'waste_product', 'wastefulness', 'wasteland', 'wastewater', 'wild', 'words', 'world-beater', 'wrangle']\n"
          ]
        }
      ],
      "source": [
        "print(conflict_list)"
      ]
    },
    {
      "cell_type": "markdown",
      "metadata": {
        "id": "ZCk2ZCbDchya"
      },
      "source": [
        "## Section 2: Generate a semantic vector map with word2vec"
      ]
    },
    {
      "cell_type": "code",
      "execution_count": null,
      "metadata": {
        "colab": {
          "base_uri": "https://localhost:8080/"
        },
        "id": "AqHA_VEac02j",
        "outputId": "21751249-6ceb-45be-d581-e9ab784cedec"
      },
      "outputs": [
        {
          "name": "stdout",
          "output_type": "stream",
          "text": [
            "/content\n",
            "heatwaves-2021.txt\n",
            "Energy use in hotels-2021.txt\n",
            "changeimpact-2016.txt\n",
            "energy optimization-2021.txt\n",
            "climaterisk-2021.txt\n",
            "Carbon management-2021.txt\n",
            "Fault Reactivation-2021.txt\n",
            "neocorporatism-2021.txt\n",
            "Herders’ Conflict-2021.txt\n",
            "building thermal system-2021.txt\n",
            "dead water effect-2021.txt\n",
            "frequency tracking-2021.txt\n",
            "exploring-2021.txt\n",
            "luminescent coupling effect-2021.txt\n",
            "corporateresponse-2021.txt\n",
            "governance-2016.txt\n",
            "multimodal transportation-2021.txt\n",
            "Climate Change-2018.txt\n",
            "Coevolutionary game-2021.txt\n",
            "gamechanger-2021.txt\n",
            "Decision-2021.txt\n"
          ]
        }
      ],
      "source": [
        "from gensim.models.word2vec import Word2Vec\n",
        "import os\n",
        "from os import path\n",
        "\n",
        "## This function organizes corpus as list of sentences, and each sentence as a list of words,\n",
        "## as input to the function WordVec\n",
        "\n",
        "## Collect preprocessed texts in txt format\n",
        "root_folder = os.getcwd()\n",
        "print(root_folder)\n",
        "\n",
        "## This will be a list of clean sentences\n",
        "word2vec_input = []\n",
        "\n",
        "## This iterates over your path, folders and subfolders looking for txt files\n",
        "for path, subdirs, files in os.walk(root_folder):\n",
        "    for file in files:\n",
        "        if '.txt' in file and 'model' not in file:\n",
        "            print(file)\n",
        "            name = os.path.join(path, file)\n",
        "        \n",
        "            file_text = open(name, encoding = 'utf-8').read()\n",
        "\n",
        "            ## this creates the list of paragraphs - lines\n",
        "            text_list_paragraphs = file_text.split('\\n')\n",
        "\n",
        "            ## this will clean the paragraphs further -- getting read of \\r at the end of the line\n",
        "            for paragraph in text_list_paragraphs:\n",
        "                #print (paragraph)\n",
        "                \n",
        "                paragraph = paragraph.replace('\\r', '')\n",
        "\n",
        "                ## we add the paragraphs to the word2vec input list\n",
        "                word2vec_input += [paragraph.split(' ')]\n",
        "            \n",
        "                #print(word2vec_input)"
      ]
    },
    {
      "cell_type": "code",
      "execution_count": null,
      "metadata": {
        "id": "Sh_jNs6I6GB6"
      },
      "outputs": [],
      "source": [
        "## Here we build the vector space with Word2Vec\n",
        "\n",
        "SentenceCorpus = word2vec_input\n",
        "word2vec_output = Word2Vec(SentenceCorpus, min_count=1)"
      ]
    },
    {
      "cell_type": "code",
      "execution_count": null,
      "metadata": {
        "id": "dSb5F5HT6lAC"
      },
      "outputs": [],
      "source": [
        "## Save vector space\n",
        "\n",
        "word2vec_output.save('w2v_modelclimate.txt')"
      ]
    },
    {
      "cell_type": "markdown",
      "metadata": {
        "id": "cViUsz8Z6kFU"
      },
      "source": [
        "## Section 3. Use the vector semantic map to evaluate if the bags of words created in section 1 are ecologically valid"
      ]
    },
    {
      "cell_type": "code",
      "execution_count": null,
      "metadata": {
        "id": "I3SgEEzw-YQD"
      },
      "outputs": [],
      "source": [
        "###  funtion to use word2vec to inquiry about the 10 most similar semantically words to each seed word in word_list\n",
        "\n",
        "def get_word2vec_list(word_list,model):\n",
        "\n",
        "  list_of_word2vec_lists = []\n",
        "  for word in word_list:\n",
        "    try:\n",
        "\n",
        "      ## here is the crucial line - we are using the model that we trained to get the most similar words within our corpus\n",
        "      list_vects=model.wv.most_similar([word],topn=10)\n",
        "\n",
        "      new_list = []\n",
        "      new_list +=[word]\n",
        "      for item in list_vects:\n",
        "        word1 = item[0]\n",
        "        new_list += [word1]\n",
        "\n",
        "      #print(new_list)\n",
        "      #print('\\n')\n",
        "      list_of_word2vec_lists += [new_list]\n",
        "\n",
        "\n",
        "    \n",
        "    except KeyError:\n",
        "      continue\n",
        "  return(list_of_word2vec_lists)"
      ]
    },
    {
      "cell_type": "code",
      "execution_count": null,
      "metadata": {
        "id": "P65HWECbAnfA"
      },
      "outputs": [],
      "source": [
        "## open vector space for english in the early modern period\n",
        "model = Word2Vec.load('w2v_modelclimate.txt')\n"
      ]
    },
    {
      "cell_type": "code",
      "execution_count": null,
      "metadata": {
        "colab": {
          "base_uri": "https://localhost:8080/"
        },
        "id": "LbBV5DK9H3Tl",
        "outputId": "e5553f78-d214-41fc-8e6c-fc6a96fc8e7c"
      },
      "outputs": [
        {
          "name": "stdout",
          "output_type": "stream",
          "text": [
            "0 ['Labor', 'Gökçe', 'III', '[2]', 'C.,', 'S,', 'Ngaoundere,', 'Nauels,', 'BRAZIL’S', 'Default', 'Bragança,']\n",
            "1 ['Labour', 'Water', 'Social', 'Analysis', 'Assessment', 'Urban', 'Information', 'Public', 'Review', 'Food', 'Center']\n",
            "2 ['adaptation', 'strategies', 'response', 'technology', 'field', 'getting', 'impact', 'risks', 'adapt', 'effects', 'mitigation']\n",
            "3 ['adjustment', 'BIM', 'level', 'local', 'improving', 'water', 'effect', 'rate', 'current', 'each', 'Revit']\n",
            "4 ['assignment', 'Hogan,', 'Dani,', 'Anthony', 'MA,', 'S251–64.', 'STANDARD', 'inquiries,', 'Oper', 'Hangzhou', 'vs']\n",
            "5 ['atmosphere', 'relationship', 'perceived', 'hand,', 'system', 'field', 'significant', 'planning', 'pastoralists', 'line', 'estimated']\n",
            "6 ['cold', 'uses', 'plan', 'Under', 'scientific', 'office', 'authors', 'example,', 'substantive', 'months', 'makes']\n",
            "7 ['conditions', 'traditional', 'many', 'power', 'through', 'scenarios', 'percent', 'lower', 'functions', 'reservoir', 'cost']\n",
            "8 ['drive', 'each', 'system', 'perceived', 'design', 'competition', 'river', 'improvement', 'estimated', 'was', 'developed']\n",
            "9 ['drought', 'around', 'include', 'water,', 'status', 'What', 'large', 'standard', 'heat-related', 'being', 'transnational']\n",
            "10 ['effort', 'processes', 'future', 'because', 'other', 'farmers', 'sector', 'people', 'LC', 'mechanism', 'them']\n",
            "11 ['elements', 'included', 'greater', 'association', 'tool', 'correlation', 'objective', 'retailer', 'case', 'major', 'consumption']\n",
            "12 ['enterprise', 'main', 'suppliers,', 'average', 'coordination', 'retailers,', 'kinds', 'motor', 'aid', 'profit', 'optimal']\n",
            "13 ['fertilizer', '2011).', '2010).', '2008).', 'Integrating', '[7]', '2014;', '2013).', 'Fan', '2019).', '2016;']\n",
            "14 ['flood', 'China', 'African', 'taxation', 'North', 'photovoltaic', 'respectively.', 'four', 'ethical', 'qualitative', 'tidal']\n",
            "15 ['flow', 'studies', 'no', 'our', 'open', 'requires', 'software', 'However,', 'designed', 'long-term', 'often']\n",
            "16 ['heat', 'cattle', 'effect', 'national', 'regional', 'grazing', 'activities', 'current', 'possible', 'negative', 'level']\n",
            "17 ['inundate', 'comments.', 'coping', 'causal', '6%', 'possible.', 'fragmentation,', 'ongoing', 'planet', 'solution.', 'compatibility']\n",
            "18 ['inundation', 'research,', 'such', 'complete', 'yield', 'stable', 'actively', 'useful', 'rural', 'cause', 'experimental']\n",
            "19 ['irregular', '“Living', '(provincial', 'l=1,l\\x07=i', 'he', 'interview,', 'Francisco', 'Yao', 'December).', 'match', 'N0']\n",
            "20 ['labor', 'reduction', 'land', 'thermal', 'emission', 'service', 'wave', 'capacity', 'simulation', 'government', 'materials']\n",
            "21 ['labour', '“Fair', 'Index', 'Farmers’', 'Action', 'Technology', 'Corporate', 'Beliefs,', 'America’s', 'National', 'Sciences']\n",
            "22 ['landslide', 'evacuation', 'Serfdom', 'globally', '(BIM);', 'NPP,', 'soon', 'goal,', '∂F(z)/∂z', 'determine,', 'highest.']\n",
            "23 ['modernization', 'trajectory', 'Gyeonggi-do,', 'report', 'reviewed', 'and', 'Governance', 'identification', 'Overview', 'discussion', 'Capacity']\n",
            "24 ['organic', 'horizontal', 'especially', 'heating', 'route', 'original', 'period', 'leakage', 'progressive', 'signal', 'farm']\n",
            "25 ['pest', 'around', 'include', 'multiple', 'status', 'five', 'lines', 'standard', 'thereby', 'now', 'relative']\n",
            "26 ['precipitation', 'Soil', 'An', 'per', 'Nigerian', 'R&D', 'Using', 'zone', 'South', 'China', 'residual']\n",
            "27 ['project', 'percent', 'scenarios', 'EU', 'coordination', 'design.', 'conditions', 'lower', 'reservoir', 'power', 'amount']\n",
            "28 ['push', 'This', 'allows', 'there', 'positively', 'agriculture', 'discussed', 'compared', 'already', 'but', 'hotel']\n",
            "29 ['reach', 'as', 'used', 'well', 'vulnerable', 'important', 'lead', 'to', 'order', 'this', 'beneficial']\n",
            "30 ['slavery', '2,', '35', '4', 'Cj', 'Measured', 'π', 'Brasil', 'e', 'cases,', 'Rebekah']\n",
            "31 ['strain', 'Matchoc,', 'Medina-Muñoz', 'Oxford', 'Automatisierter', 'Ramp', 'Press.', 'Negative', 'edited', 'Philippines', 'wall']\n",
            "32 ['strive', 'below', 'functional', '[…]', 'another', 'bottom-up', 'saving', 'information.', 'template', 'express', 'realistic']\n",
            "33 ['swamp', 'national,', 'MAPs', 'drawn', 'you', 'coming', 'two-diode', 'options', 'graze', 'GaInAs', 'sea']\n",
            "34 ['task', 'Velocity', 'Forty-four', 'ARM', 'Rijke,', 'heatrelated', 'Alexandra', '(2011–2016).', 'lukuup,', 'Yahoo.', 'Int.']\n",
            "35 ['temperature', 'governments', 'construction', 'increasing', 'cooperative', 'fracture', 'EU', 'materials', 'first', 'cost', 'ecological']\n",
            "36 ['typhoon', 'transects,', 'competence.”', 'derivatives', 'easily.', 'UN.', 'pests', 'naturalised', '2050', 'subordinate', 'Utsira']\n",
            "37 ['undertaking', 'shown', 'paper', 'this', 'create', 'described', 'conducted', 'study', 'aims', 'optimized', 'as']\n",
            "38 ['unpredictable', 'To', 'before', 'environments', 'manufacturers’', 'whereas', 'greenhouse', 'agricultural', 'her', 'faking', 'increases']\n",
            "39 ['version', 'governing', 'aware', 'impacts.', 'Vina', 'subdivisions', 'peer-reviewed,', 'in', 'undertaking', 'existence', 'create']\n",
            "40 ['warming', 'urban', 'farmers', 'practices', 'SLR', 'vulnerability', 'their', 'countries', 'process', 'responses', 'framework']\n",
            "41 ['wave', 'land', 'strategy', 'reduction', 'emission', 'model,', 'government', 'different', 'current', 'data', 'set']\n",
            "42 ['weather', 'rice', 'structural', 'like', 'China', 'including', 'financial', 'ethical', '(1)', 'farming', 'photovoltaic']\n",
            "43 ['wind', 'costs', 'individual', 'storage', 'across', 'lack', 'review', 'model.', 'assistance', 'four', 'Through']\n"
          ]
        }
      ],
      "source": [
        "## get word2vec list of 10 most similar words for the prosociality bag of words\n",
        "\n",
        "list_of_climate_w2v = get_word2vec_list(climate_list,model)\n",
        "\n",
        "index =0\n",
        "for w2v_list in list_of_climate_w2v:\n",
        "  print(index, w2v_list)\n",
        "  index +=1"
      ]
    },
    {
      "cell_type": "code",
      "execution_count": null,
      "metadata": {
        "colab": {
          "base_uri": "https://localhost:8080/"
        },
        "id": "Z1lnfKa_JroZ",
        "outputId": "ca306c92-b96a-45f6-e431-cc22f014f081"
      },
      "outputs": [
        {
          "name": "stdout",
          "output_type": "stream",
          "text": [
            "['adaptation', 'strategies', 'response', 'technology', 'field', 'getting', 'impact', 'risks', 'adapt', 'effects', 'mitigation', 'adjustment', 'BIM', 'level', 'local', 'improving', 'water', 'effect', 'rate', 'current', 'each', 'Revit', 'assignment', 'Hogan,', 'Dani,', 'Anthony', 'MA,', 'S251–64.', 'STANDARD', 'inquiries,', 'Oper', 'Hangzhou', 'vs', 'atmosphere', 'relationship', 'perceived', 'hand,', 'system', 'field', 'significant', 'planning', 'pastoralists', 'line', 'estimated', 'conditions', 'traditional', 'many', 'power', 'through', 'scenarios', 'percent', 'lower', 'functions', 'reservoir', 'cost', 'elements', 'included', 'greater', 'association', 'tool', 'correlation', 'objective', 'retailer', 'case', 'major', 'consumption', 'enterprise', 'main', 'suppliers,', 'average', 'coordination', 'retailers,', 'kinds', 'motor', 'aid', 'profit', 'optimal', 'fertilizer', '2011).', '2010).', '2008).', 'Integrating', '[7]', '2014;', '2013).', 'Fan', '2019).', '2016;', 'flood', 'China', 'African', 'taxation', 'North', 'photovoltaic', 'respectively.', 'four', 'ethical', 'qualitative', 'tidal', 'inundation', 'research,', 'such', 'complete', 'yield', 'stable', 'actively', 'useful', 'rural', 'cause', 'experimental', 'irregular', '“Living', '(provincial', 'l=1,l\\x07=i', 'he', 'interview,', 'Francisco', 'Yao', 'December).', 'match', 'N0', 'slavery', '2,', '35', '4', 'Cj', 'Measured', 'π', 'Brasil', 'e', 'cases,', 'Rebekah', 'strive', 'below', 'functional', '[…]', 'another', 'bottom-up', 'saving', 'information.', 'template', 'express', 'realistic', 'task', 'Velocity', 'Forty-four', 'ARM', 'Rijke,', 'heatrelated', 'Alexandra', '(2011–2016).', 'lukuup,', 'Yahoo.', 'Int.', 'temperature', 'governments', 'construction', 'increasing', 'cooperative', 'fracture', 'EU', 'materials', 'first', 'cost', 'ecological', 'unpredictable', 'To', 'before', 'environments', 'manufacturers’', 'whereas', 'greenhouse', 'agricultural', 'her', 'faking', 'increases', 'adjustment', 'BIM', 'level', 'local', 'improving', 'water', 'effect', 'rate', 'current', 'each', 'Revit', 'drought', 'around', 'include', 'water,', 'status', 'What', 'large', 'standard', 'heat-related', 'being', 'transnational']\n"
          ]
        }
      ],
      "source": [
        "## chose from the word2vec outputs, the lists that seem to have clouds of meanings coherent with prosociality\n",
        "## in this example we can chose, for instance (among others) indexes 3,6,9,11,13 and 14\n",
        "\n",
        "relevant_climate_w2v_words = list( list_of_climate_w2v[i] for i in [2,3,4,5,7,11,12,13,14,18,19,30,32,34,35,38,3,9])\n",
        "\n",
        "\n",
        "## Add all the words into one final bags of words\n",
        "climate_BoW = [item for sublist in relevant_climate_w2v_words for item in sublist]\n",
        "\n",
        "print(climate_BoW)"
      ]
    },
    {
      "cell_type": "code",
      "execution_count": null,
      "metadata": {
        "colab": {
          "base_uri": "https://localhost:8080/"
        },
        "id": "FM6d0cUUIAfX",
        "outputId": "50d720d0-9c1c-4585-d82a-132d19140f2c"
      },
      "outputs": [
        {
          "name": "stdout",
          "output_type": "stream",
          "text": [
            "0 ['argument', 'design-driven', 'severely', 'mapped', 'overlay', 'A),', 'assumed', 'roads', 'ultimately', 'tracking.', 'accessible']\n",
            "1 ['ask', 'metal.', 'do.', 'stay,', 'contrasting', 'protected.', 'phenomenon,', 'believed', 'omissions', '“locally', 'improved,']\n",
            "2 ['battle', 'analysed', 'China,', 'transformation', 'cities.', 'context', 'building', 'procedure', 'in', 'study', 'reference']\n",
            "3 ['burn', 'susceptibility', 'threaten', 'awakening', 'Δeϕ', 'Holocene,', 'normally', 'Azzu,', 'plain', 'concave', 'deliberative']\n",
            "4 ['call', 'been', 'obtain', 'necessary', 'should', 'incorporated', 'likely', 'UDA,', 'may', 'It', 'enough']\n",
            "5 ['chance', 'process', 'respondents', 'cooperation', 'definition', 'case', 'production.', 'applicable', 'new', 'chain', 'regime']\n",
            "6 ['claim', 'horizontal', 'consumer', 'signal', 'leakage', 'farm', 'especially', 'over', 'When', 'progressive', 'Korean']\n",
            "7 ['collide', 'editors,', 'Hub', 'compressor.', 'Hybrid', 'Minimum', 'governments,', 'Practices', 'derivative', 'distributed', 'participating']\n",
            "8 ['collision', 'time,', 'determined', 'shows', 'level,', 'generated', 'same', 'interface', 'selecting', 'if', 'adopting']\n",
            "9 ['combat', 'change,', 'change', 'change.', 'responding', 'face', 'climate', 'belief', 'incorporate', 'variability', 'literature,']\n",
            "10 ['competition', 'water', 'was', 'changes', 'each', 'developed', 'buildings', 'risk', 'policy', 'internet', 'estimated']\n",
            "11 ['conflict', 'There', 'but', 'good', 'limited', 'become', 'generate', 'consider', 'more', 'widely', 'further']\n",
            "12 ['consume', 'Access,', 'Nigeria.', 'purchasing', 'participatory', 'development.', 'hotels.', 'integrate', 'makes', 'warranty,', 'Dismissive']\n",
            "13 ['contention', 'pay', 'letter', 'emerge', 'accurate', 'imply', 'measured', 'accurately', 'does', 'projected', 'materials,']\n",
            "14 ['contestation', 'Tornado', '25,', '[A', 'Services.”', 'T.,', '30,', 'May', 'Buildings.', 'Publishing', 'Federal']\n",
            "15 ['cost', 'governments', 'public', 'social', 'increasing', 'traditional', 'environment', 'material', 'consumers', 'when', 'many']\n",
            "16 ['critical', 'flow', 'With', 'studies', 'practice', 'no', 'designed', 'However,', 'requires', 'showed', 'is,']\n",
            "17 ['danger', 'derivative', 'supplies.', 'Practices', 'editors,', '2007', 'community.', 'partly', 'peer', '2005).', 'retailers,']\n",
            "18 ['dearth', 'Convention', 'Conferences', 'Opinions', 'BA', 'Intergovernmental', 'Published', 'Edited', 'States.”', 'Electrical', '“Effects']\n",
            "19 ['decisive', 'equatorial', 'payoffs', 'Treaties:', 'uppermost', '(-0.77,', 'interpersonal', '-0.31)', 'Besides,', 'J(xi∗', 'averaging']\n",
            "20 ['demand', 'influence', 'direction', 'basis', 'results', 'degree', 'application', 'improvement', 'state', 'design', 'manufacturer']\n",
            "21 ['devastate', 'issue-level', 'authorities', 'Proposition', 'Second,', 'giving', 'Revit,', 'content.', 'und', '2010', 'popular']\n",
            "22 ['difference', 'construction', 'types', 'linear', 'capacity', 'system.', 'service', 'under', 'between', 'aid', 'EU']\n",
            "23 ['dispute', 'Sol', 'Institutional', 'Act', 'Accessed', 'G.', 'Y.', '1991.', 'Prod', 'accepted', 'José']\n",
            "24 ['dissipation', 'Stocker,', '(2014,', 'transmitting', 'chemotaxis', 'Cambridge:', 'seus', 'Umwelt,', 'Workshops.”', 'Mohiuddin,', 'Walsh,']\n",
            "25 ['draw', 'characterized', 'time,', 'adopting', 'waves', 'videos', 'Finally,', 'generated', 'regional', 'journal', 'determined']\n",
            "26 ['enemy', 'currently', 'kitchen', 'maximizing', 'family', 'receive', 'authorities', 'constitutes', 'popular', 'my', 'encourage']\n",
            "27 ['engagement', 'symptoms', 'Open', 'risks.', '2D', 'uses', 'example,', 'plan', 'ETL', 'emails', 'emissions.']\n",
            "28 ['exact', '2010', '56', 'normally', 'background', 'illustrates', 'converges', 'engages', 'MAPs', 'researches', 'coordinates']\n",
            "29 ['excrement', 'degradation', 'San', 'Laboratory', 'system’s', 'Zamfara', 'AC', 'American', 'driving', 'formation', 'Ifo']\n",
            "30 ['exhaust', 'Communities', 'Waters,', '156', 'Chile', 'Brazil:', '32', '0.55', 'Da', '+πL', 'Issue']\n",
            "31 ['fight', 'to', 'associated', 'appreciate', 'a', 'comes', 'study', 'part', 'related', 'mitigation', 'order']\n",
            "32 ['fighting', 'threat', 'addition', 'adoption', 'incorporate', 'country,', 'understood', 'consequent', 'cooperate', 'combat', 'forestry,']\n",
            "33 ['fool', 'Meteorological', 'Storm', '44', 'cm,', 'LaRose', 'Christoph', 'GmbH', 'Author(s)', 'Governments', 'ed.,']\n",
            "34 ['friction', 'islands', 'bottom', 'emphasis', 'accommodation', 'session', 'covered', 'by', 'funding', 'limit', 'landscape']\n",
            "35 ['game', 'sustainable', 'maximum', 'optimization', 'frequency', 'mode', 'many', 'our', 'power', 'lower', 'index']\n",
            "36 ['gap', 'band', 'Most', 'EOS', 'external', 'matter', 'Reservoir', 'Oil', '4,', 'wireless', 'fluid']\n",
            "37 ['garbage', 'age', 'areas,', '2D', 'includes', 'design,', 'uses', 'sensors', 'individuals', 'people,', 'strong']\n",
            "38 ['govern', 'compressor.', 'derivative', 'editors,', 'activities.', 'publisher', 'peer', '1995.', 'Hybrid', 'Ecotect', 'August,']\n",
            "39 ['hazard', 'equation', 'enable', 'integrates', 'emerging', 'does', 'locally', 'opportunities', 'attention', 'is,', 'Given']\n",
            "40 ['involve', 'operation', 'tracking', 'dead', 'control', 'heating', 'For', 'above', 'mangroves', 'electricity', 'product']\n",
            "41 ['match', 'By', '5', '2014,', 'exists', 'please', 'Stepwise,', 'frameworks,', 'MLR:', 'although', 'We']\n",
            "42 ['necessitate', 'high-income', 'Barbara', 'accommodate', 'author', 'chose', 'hazard', 'discussions.', 'enable', 'sufficient', 'interior']\n",
            "43 ['need', 'that', 'likely', 'it', 'been', 'necessary', 'considered', 'crucial', 'approach', 'explained', 'may']\n",
            "44 ['pacification', 'internet.', 'WSPPs', 'transformation', 'concept', 'context', 'the', 'rapid', 'members', 'period.', 'existence']\n",
            "45 ['race', 'Note', 'sunset', 'leakage.', 'used,', 'Vina', 'market.', 'regulations.', 'chains.', 'solution,', 'explores']\n",
            "46 ['refuse', 'Daeung', 'underpin', 'Selangor,', 'Access', 'π', 'Many', 'respectively,', 'Ministerium', 'convergence', 'blood']\n",
            "47 ['require', 'respond', 'result', 'short-term', 'aims', 'variables', 'related', 'revealed', 'article', 'major', 'conducted']\n",
            "48 ['rising', 'No', 'blogs,', 'stroke', 'White', 'El', 'Wang,', '±', '1991', 'Roon,', 'Sci']\n",
            "49 ['risk', 'most', 'one', 'factors', 'changes', 'policy', 'its', 'internet', 'SLR', 'their', 'buildings']\n",
            "50 ['scarcity', 'exception', 'imbalance', 'uncertainty', 'purpose', 'course', 'adoption', 'charge', 'minimizes', 'waters', 'literature,']\n",
            "51 ['series', 'European', 'phase', 'coastal', 'network', 'amplitude', 'Selection', 'Lower', 'formation', 'layer', 'consumer']\n",
            "52 ['sewage', 'transformation', 'existence', 'WSPPs', 'in', 'context', 'consumed', 'optimized', 'governing', 'concept', 'drainage']\n",
            "53 ['sewerage', 'strict', '[26].', '[…]', 'advantage.', 'except', '2.', 'zero-sum', 'pilot', 'channel,', 'shape']\n",
            "54 ['shoot', 'WSNs', 'access,', '23.34', 'labor,', 'slavery,', 'bathtub.', 'concern,', 'friendly', 'buffer', 'sumptuous']\n",
            "55 ['shower', 'inconsistent', 'interior', 'integration,', 'inadequate', 'aggregate', 'designs', 'known.', 'advantage.', 'goals.', 'pore']\n",
            "56 ['struggle', 'mean', 'buildings.', 'Open', 'African', 'cube', 'multi-dimensional', '2.', 'respectively.', 'example,', 'civil']\n",
            "57 ['take', 'species', 'achieve', 'generate', 'communities', 'evolve', 'consider', 'high', 'get', 'so', 'Equation']\n",
            "58 ['vital', 'yet', 'cannot', 'via', 'structures', 'error', 'think', 'reported', 'certain', 'put', 'directly']\n",
            "59 ['want', 'significantly', 'tend', 'while', 'actors', 'include', 'even', 'wider', 'out', 'regulatory', 'As']\n",
            "60 ['war', 'time,', 'Finally,', 'waves', 'adopting', 'area,', 'year', 'determined', 'level,', 'pressure', 'EDPs']\n",
            "61 ['warfare', 'Neil,', 'Yale–George', 'blogs,', 'ICG', 'und', 'Bahatan,', 'Belarus', 'diameter', ')−2βIr', 'General']\n",
            "62 ['waste', 'areas,', 'offers', 'did', 'find', 'diode', 'proposes', 'showed', 'no', 'plan', 'opportunities']\n",
            "63 ['wastewater', 'PV', 'Stakeholder', '+2πL', 'Paulo:', 'Stepwise,', 'standards.', 'NJ:', 'JANE', 'Jayawardena', 'Cottam']\n",
            "64 ['words', 'pipeline', 'regimes', 'electromagnetic', 'phenomenon', 'practices,', 'clearly', 'nerves', 'management,', 'standard', 'five']\n"
          ]
        }
      ],
      "source": [
        "## get word2vec words for authoritarianism\n",
        "\n",
        "list_of_conflict_w2v = get_word2vec_list(conflict_list,model)\n",
        "\n",
        "index =0\n",
        "for w2v_list in list_of_conflict_w2v:\n",
        "  print(index, w2v_list)\n",
        "  index +=1"
      ]
    },
    {
      "cell_type": "code",
      "execution_count": null,
      "metadata": {
        "colab": {
          "base_uri": "https://localhost:8080/"
        },
        "id": "LjPwGhOCMKY3",
        "outputId": "d7522a05-d7b2-4984-c655-4001876f28bd"
      },
      "outputs": [
        {
          "name": "stdout",
          "output_type": "stream",
          "text": [
            "['argument', 'design-driven', 'severely', 'mapped', 'overlay', 'A),', 'assumed', 'roads', 'ultimately', 'tracking.', 'accessible', 'burn', 'susceptibility', 'threaten', 'awakening', 'Δeϕ', 'Holocene,', 'normally', 'Azzu,', 'plain', 'concave', 'deliberative', 'chance', 'process', 'respondents', 'cooperation', 'definition', 'case', 'production.', 'applicable', 'new', 'chain', 'regime', 'claim', 'horizontal', 'consumer', 'signal', 'leakage', 'farm', 'especially', 'over', 'When', 'progressive', 'Korean', 'collision', 'time,', 'determined', 'shows', 'level,', 'generated', 'same', 'interface', 'selecting', 'if', 'adopting', 'competition', 'water', 'was', 'changes', 'each', 'developed', 'buildings', 'risk', 'policy', 'internet', 'estimated', 'cost', 'governments', 'public', 'social', 'increasing', 'traditional', 'environment', 'material', 'consumers', 'when', 'many', 'critical', 'flow', 'With', 'studies', 'practice', 'no', 'designed', 'However,', 'requires', 'showed', 'is,', 'danger', 'derivative', 'supplies.', 'Practices', 'editors,', '2007', 'community.', 'partly', 'peer', '2005).', 'retailers,', 'dearth', 'Convention', 'Conferences', 'Opinions', 'BA', 'Intergovernmental', 'Published', 'Edited', 'States.”', 'Electrical', '“Effects', 'demand', 'influence', 'direction', 'basis', 'results', 'degree', 'application', 'improvement', 'state', 'design', 'manufacturer', 'devastate', 'issue-level', 'authorities', 'Proposition', 'Second,', 'giving', 'Revit,', 'content.', 'und', '2010', 'popular', 'dispute', 'Sol', 'Institutional', 'Act', 'Accessed', 'G.', 'Y.', '1991.', 'Prod', 'accepted', 'José', 'draw', 'characterized', 'time,', 'adopting', 'waves', 'videos', 'Finally,', 'generated', 'regional', 'journal', 'determined', 'enemy', 'currently', 'kitchen', 'maximizing', 'family', 'receive', 'authorities', 'constitutes', 'popular', 'my', 'encourage', 'exact', '2010', '56', 'normally', 'background', 'illustrates', 'converges', 'engages', 'MAPs', 'researches', 'coordinates', 'exhaust', 'Communities', 'Waters,', '156', 'Chile', 'Brazil:', '32', '0.55', 'Da', '+πL', 'Issue', 'fight', 'to', 'associated', 'appreciate', 'a', 'comes', 'study', 'part', 'related', 'mitigation', 'order', 'gap', 'band', 'Most', 'EOS', 'external', 'matter', 'Reservoir', 'Oil', '4,', 'wireless', 'fluid', 'garbage', 'age', 'areas,', '2D', 'includes', 'design,', 'uses', 'sensors', 'individuals', 'people,', 'strong', 'govern', 'compressor.', 'derivative', 'editors,', 'activities.', 'publisher', 'peer', '1995.', 'Hybrid', 'Ecotect', 'August,', 'hazard', 'equation', 'enable', 'integrates', 'emerging', 'does', 'locally', 'opportunities', 'attention', 'is,', 'Given', 'involve', 'operation', 'tracking', 'dead', 'control', 'heating', 'For', 'above', 'mangroves', 'electricity', 'product', 'match', 'By', '5', '2014,', 'exists', 'please', 'Stepwise,', 'frameworks,', 'MLR:', 'although', 'We', 'need', 'that', 'likely', 'it', 'been', 'necessary', 'considered', 'crucial', 'approach', 'explained', 'may', 'pacification', 'internet.', 'WSPPs', 'transformation', 'concept', 'context', 'the', 'rapid', 'members', 'period.', 'existence', 'rising', 'No', 'blogs,', 'stroke', 'White', 'El', 'Wang,', '±', '1991', 'Roon,', 'Sci', 'sewage', 'transformation', 'existence', 'WSPPs', 'in', 'context', 'consumed', 'optimized', 'governing', 'concept', 'drainage', 'sewerage', 'strict', '[26].', '[…]', 'advantage.', 'except', '2.', 'zero-sum', 'pilot', 'channel,', 'shape', 'shoot', 'WSNs', 'access,', '23.34', 'labor,', 'slavery,', 'bathtub.', 'concern,', 'friendly', 'buffer', 'sumptuous', 'struggle', 'mean', 'buildings.', 'Open', 'African', 'cube', 'multi-dimensional', '2.', 'respectively.', 'example,', 'civil', 'vital', 'yet', 'cannot', 'via', 'structures', 'error', 'think', 'reported', 'certain', 'put', 'directly', 'words', 'pipeline', 'regimes', 'electromagnetic', 'phenomenon', 'practices,', 'clearly', 'nerves', 'management,', 'standard', 'five']\n"
          ]
        }
      ],
      "source": [
        "## chose from the word2vec outputs, the lists that seem to have clouds of meanings coherent with prosociality\n",
        "## in this example we choose indexes 3,6,9,11,13 and 14\n",
        "relevant_conflict_w2v_words = list( list_of_conflict_w2v[i] for i in [0,3,5,6,8,10,15,16,17,18,20,21,23,25,26,28,30,31,36,37,38,39,40,41,43,44,48,52,53,54,56,58,64])\n",
        "\n",
        "\n",
        "## Add all the words into one final bags of words\n",
        "conflict_BoW = [item for sublist in relevant_conflict_w2v_words for item in sublist]\n",
        "\n",
        "print(conflict_BoW)"
      ]
    },
    {
      "cell_type": "code",
      "execution_count": null,
      "metadata": {
        "colab": {
          "base_uri": "https://localhost:8080/"
        },
        "id": "4659ZxT2XNfH",
        "outputId": "47f985bf-9ee9-4a78-c7ef-60b9576bcd08"
      },
      "outputs": [
        {
          "name": "stdout",
          "output_type": "stream",
          "text": [
            "climate************************************************************************************** \n",
            " ['adaptation', 'strategies', 'response', 'technology', 'field', 'getting', 'impact', 'risks', 'adapt', 'effects', 'mitigation', 'adjustment', 'BIM', 'level', 'local', 'improving', 'water', 'effect', 'rate', 'current', 'each', 'Revit', 'assignment', 'Hogan,', 'Dani,', 'Anthony', 'MA,', 'S251–64.', 'STANDARD', 'inquiries,', 'Oper', 'Hangzhou', 'vs', 'atmosphere', 'relationship', 'perceived', 'hand,', 'system', 'field', 'significant', 'planning', 'pastoralists', 'line', 'estimated', 'conditions', 'traditional', 'many', 'power', 'through', 'scenarios', 'percent', 'lower', 'functions', 'reservoir', 'cost', 'elements', 'included', 'greater', 'association', 'tool', 'correlation', 'objective', 'retailer', 'case', 'major', 'consumption', 'enterprise', 'main', 'suppliers,', 'average', 'coordination', 'retailers,', 'kinds', 'motor', 'aid', 'profit', 'optimal', 'fertilizer', '2011).', '2010).', '2008).', 'Integrating', '[7]', '2014;', '2013).', 'Fan', '2019).', '2016;', 'flood', 'China', 'African', 'taxation', 'North', 'photovoltaic', 'respectively.', 'four', 'ethical', 'qualitative', 'tidal', 'inundation', 'research,', 'such', 'complete', 'yield', 'stable', 'actively', 'useful', 'rural', 'cause', 'experimental', 'irregular', '“Living', '(provincial', 'l=1,l\\x07=i', 'he', 'interview,', 'Francisco', 'Yao', 'December).', 'match', 'N0', 'slavery', '2,', '35', '4', 'Cj', 'Measured', 'π', 'Brasil', 'e', 'cases,', 'Rebekah', 'strive', 'below', 'functional', '[…]', 'another', 'bottom-up', 'saving', 'information.', 'template', 'express', 'realistic', 'task', 'Velocity', 'Forty-four', 'ARM', 'Rijke,', 'heatrelated', 'Alexandra', '(2011–2016).', 'lukuup,', 'Yahoo.', 'Int.', 'temperature', 'governments', 'construction', 'increasing', 'cooperative', 'fracture', 'EU', 'materials', 'first', 'cost', 'ecological', 'unpredictable', 'To', 'before', 'environments', 'manufacturers’', 'whereas', 'greenhouse', 'agricultural', 'her', 'faking', 'increases', 'adjustment', 'BIM', 'level', 'local', 'improving', 'water', 'effect', 'rate', 'current', 'each', 'Revit', 'drought', 'around', 'include', 'water,', 'status', 'What', 'large', 'standard', 'heat-related', 'being', 'transnational']\n",
            "\n",
            "\n",
            "conflict###################################################################################### \n",
            " ['argument', 'design-driven', 'severely', 'mapped', 'overlay', 'A),', 'assumed', 'roads', 'ultimately', 'tracking.', 'accessible', 'burn', 'susceptibility', 'threaten', 'awakening', 'Δeϕ', 'Holocene,', 'normally', 'Azzu,', 'plain', 'concave', 'deliberative', 'chance', 'process', 'respondents', 'cooperation', 'definition', 'case', 'production.', 'applicable', 'new', 'chain', 'regime', 'claim', 'horizontal', 'consumer', 'signal', 'leakage', 'farm', 'especially', 'over', 'When', 'progressive', 'Korean', 'collision', 'time,', 'determined', 'shows', 'level,', 'generated', 'same', 'interface', 'selecting', 'if', 'adopting', 'competition', 'water', 'was', 'changes', 'each', 'developed', 'buildings', 'risk', 'policy', 'internet', 'estimated', 'cost', 'governments', 'public', 'social', 'increasing', 'traditional', 'environment', 'material', 'consumers', 'when', 'many', 'critical', 'flow', 'With', 'studies', 'practice', 'no', 'designed', 'However,', 'requires', 'showed', 'is,', 'danger', 'derivative', 'supplies.', 'Practices', 'editors,', '2007', 'community.', 'partly', 'peer', '2005).', 'retailers,', 'dearth', 'Convention', 'Conferences', 'Opinions', 'BA', 'Intergovernmental', 'Published', 'Edited', 'States.”', 'Electrical', '“Effects', 'demand', 'influence', 'direction', 'basis', 'results', 'degree', 'application', 'improvement', 'state', 'design', 'manufacturer', 'devastate', 'issue-level', 'authorities', 'Proposition', 'Second,', 'giving', 'Revit,', 'content.', 'und', '2010', 'popular', 'dispute', 'Sol', 'Institutional', 'Act', 'Accessed', 'G.', 'Y.', '1991.', 'Prod', 'accepted', 'José', 'draw', 'characterized', 'time,', 'adopting', 'waves', 'videos', 'Finally,', 'generated', 'regional', 'journal', 'determined', 'enemy', 'currently', 'kitchen', 'maximizing', 'family', 'receive', 'authorities', 'constitutes', 'popular', 'my', 'encourage', 'exact', '2010', '56', 'normally', 'background', 'illustrates', 'converges', 'engages', 'MAPs', 'researches', 'coordinates', 'exhaust', 'Communities', 'Waters,', '156', 'Chile', 'Brazil:', '32', '0.55', 'Da', '+πL', 'Issue', 'fight', 'to', 'associated', 'appreciate', 'a', 'comes', 'study', 'part', 'related', 'mitigation', 'order', 'gap', 'band', 'Most', 'EOS', 'external', 'matter', 'Reservoir', 'Oil', '4,', 'wireless', 'fluid', 'garbage', 'age', 'areas,', '2D', 'includes', 'design,', 'uses', 'sensors', 'individuals', 'people,', 'strong', 'govern', 'compressor.', 'derivative', 'editors,', 'activities.', 'publisher', 'peer', '1995.', 'Hybrid', 'Ecotect', 'August,', 'hazard', 'equation', 'enable', 'integrates', 'emerging', 'does', 'locally', 'opportunities', 'attention', 'is,', 'Given', 'involve', 'operation', 'tracking', 'dead', 'control', 'heating', 'For', 'above', 'mangroves', 'electricity', 'product', 'match', 'By', '5', '2014,', 'exists', 'please', 'Stepwise,', 'frameworks,', 'MLR:', 'although', 'We', 'need', 'that', 'likely', 'it', 'been', 'necessary', 'considered', 'crucial', 'approach', 'explained', 'may', 'pacification', 'internet.', 'WSPPs', 'transformation', 'concept', 'context', 'the', 'rapid', 'members', 'period.', 'existence', 'rising', 'No', 'blogs,', 'stroke', 'White', 'El', 'Wang,', '±', '1991', 'Roon,', 'Sci', 'sewage', 'transformation', 'existence', 'WSPPs', 'in', 'context', 'consumed', 'optimized', 'governing', 'concept', 'drainage', 'sewerage', 'strict', '[26].', '[…]', 'advantage.', 'except', '2.', 'zero-sum', 'pilot', 'channel,', 'shape', 'shoot', 'WSNs', 'access,', '23.34', 'labor,', 'slavery,', 'bathtub.', 'concern,', 'friendly', 'buffer', 'sumptuous', 'struggle', 'mean', 'buildings.', 'Open', 'African', 'cube', 'multi-dimensional', '2.', 'respectively.', 'example,', 'civil', 'vital', 'yet', 'cannot', 'via', 'structures', 'error', 'think', 'reported', 'certain', 'put', 'directly', 'words', 'pipeline', 'regimes', 'electromagnetic', 'phenomenon', 'practices,', 'clearly', 'nerves', 'management,', 'standard', 'five']\n"
          ]
        }
      ],
      "source": [
        "## An hypothetical bag of words was thus obtained, which can be used for frequency analyses\n",
        "## See next script\n",
        "\n",
        "print('climate**************************************************************************************','\\n',climate_BoW)\n",
        "print('\\n')\n",
        "print('conflict######################################################################################','\\n',conflict_BoW)"
      ]
    }
  ],
  "metadata": {
    "colab": {
      "collapsed_sections": [],
      "name": "climateVSconflict  Steps2_4_generate_bags_of_words.ipynb",
      "provenance": []
    },
    "kernelspec": {
      "display_name": "Python 3 (ipykernel)",
      "language": "python",
      "name": "python3"
    },
    "language_info": {
      "codemirror_mode": {
        "name": "ipython",
        "version": 3
      },
      "file_extension": ".py",
      "mimetype": "text/x-python",
      "name": "python",
      "nbconvert_exporter": "python",
      "pygments_lexer": "ipython3",
      "version": "3.9.7"
    }
  },
  "nbformat": 4,
  "nbformat_minor": 0
}
